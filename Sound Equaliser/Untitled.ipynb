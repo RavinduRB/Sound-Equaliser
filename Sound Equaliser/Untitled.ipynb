{
 "cells": [
  {
   "cell_type": "code",
   "execution_count": 1,
   "id": "1cfca737-f6b2-4d05-ab93-00160aef0c33",
   "metadata": {},
   "outputs": [
    {
     "name": "stdout",
     "output_type": "stream",
     "text": [
      "Collecting pydub\n",
      "  Using cached pydub-0.25.1-py2.py3-none-any.whl.metadata (1.4 kB)\n",
      "Using cached pydub-0.25.1-py2.py3-none-any.whl (32 kB)\n",
      "Installing collected packages: pydub\n",
      "Successfully installed pydub-0.25.1\n",
      "Note: you may need to restart the kernel to use updated packages.\n"
     ]
    }
   ],
   "source": [
    "pip install pydub"
   ]
  },
  {
   "cell_type": "code",
   "execution_count": 2,
   "id": "b4271dfd-072b-4afa-b8fc-f30a9e0edb6e",
   "metadata": {},
   "outputs": [
    {
     "name": "stdout",
     "output_type": "stream",
     "text": [
      "Collecting librosa\n",
      "  Downloading librosa-0.10.2.post1-py3-none-any.whl.metadata (8.6 kB)\n",
      "Collecting audioread>=2.1.9 (from librosa)\n",
      "  Downloading audioread-3.0.1-py3-none-any.whl.metadata (8.4 kB)\n",
      "Requirement already satisfied: numpy!=1.22.0,!=1.22.1,!=1.22.2,>=1.20.3 in c:\\users\\asus\\anaconda3\\lib\\site-packages (from librosa) (1.26.4)\n",
      "Requirement already satisfied: scipy>=1.2.0 in c:\\users\\asus\\anaconda3\\lib\\site-packages (from librosa) (1.11.4)\n",
      "Requirement already satisfied: scikit-learn>=0.20.0 in c:\\users\\asus\\anaconda3\\lib\\site-packages (from librosa) (1.2.2)\n",
      "Requirement already satisfied: joblib>=0.14 in c:\\users\\asus\\anaconda3\\lib\\site-packages (from librosa) (1.2.0)\n",
      "Requirement already satisfied: decorator>=4.3.0 in c:\\users\\asus\\anaconda3\\lib\\site-packages (from librosa) (5.1.1)\n",
      "Requirement already satisfied: numba>=0.51.0 in c:\\users\\asus\\anaconda3\\lib\\site-packages (from librosa) (0.59.0)\n",
      "Collecting soundfile>=0.12.1 (from librosa)\n",
      "  Downloading soundfile-0.12.1-py2.py3-none-win_amd64.whl.metadata (14 kB)\n",
      "Collecting pooch>=1.1 (from librosa)\n",
      "  Downloading pooch-1.8.2-py3-none-any.whl.metadata (10 kB)\n",
      "Collecting soxr>=0.3.2 (from librosa)\n",
      "  Downloading soxr-0.5.0.post1-cp311-cp311-win_amd64.whl.metadata (5.6 kB)\n",
      "Requirement already satisfied: typing-extensions>=4.1.1 in c:\\users\\asus\\anaconda3\\lib\\site-packages (from librosa) (4.9.0)\n",
      "Requirement already satisfied: lazy-loader>=0.1 in c:\\users\\asus\\anaconda3\\lib\\site-packages (from librosa) (0.3)\n",
      "Requirement already satisfied: msgpack>=1.0 in c:\\users\\asus\\anaconda3\\lib\\site-packages (from librosa) (1.0.3)\n",
      "Requirement already satisfied: llvmlite<0.43,>=0.42.0dev0 in c:\\users\\asus\\anaconda3\\lib\\site-packages (from numba>=0.51.0->librosa) (0.42.0)\n",
      "Requirement already satisfied: platformdirs>=2.5.0 in c:\\users\\asus\\anaconda3\\lib\\site-packages (from pooch>=1.1->librosa) (3.10.0)\n",
      "Requirement already satisfied: packaging>=20.0 in c:\\users\\asus\\anaconda3\\lib\\site-packages (from pooch>=1.1->librosa) (23.2)\n",
      "Requirement already satisfied: requests>=2.19.0 in c:\\users\\asus\\anaconda3\\lib\\site-packages (from pooch>=1.1->librosa) (2.31.0)\n",
      "Requirement already satisfied: threadpoolctl>=2.0.0 in c:\\users\\asus\\anaconda3\\lib\\site-packages (from scikit-learn>=0.20.0->librosa) (2.2.0)\n",
      "Requirement already satisfied: cffi>=1.0 in c:\\users\\asus\\anaconda3\\lib\\site-packages (from soundfile>=0.12.1->librosa) (1.16.0)\n",
      "Requirement already satisfied: pycparser in c:\\users\\asus\\anaconda3\\lib\\site-packages (from cffi>=1.0->soundfile>=0.12.1->librosa) (2.21)\n",
      "Requirement already satisfied: charset-normalizer<4,>=2 in c:\\users\\asus\\anaconda3\\lib\\site-packages (from requests>=2.19.0->pooch>=1.1->librosa) (2.0.4)\n",
      "Requirement already satisfied: idna<4,>=2.5 in c:\\users\\asus\\anaconda3\\lib\\site-packages (from requests>=2.19.0->pooch>=1.1->librosa) (2.10)\n",
      "Requirement already satisfied: urllib3<3,>=1.21.1 in c:\\users\\asus\\anaconda3\\lib\\site-packages (from requests>=2.19.0->pooch>=1.1->librosa) (2.0.7)\n",
      "Requirement already satisfied: certifi>=2017.4.17 in c:\\users\\asus\\anaconda3\\lib\\site-packages (from requests>=2.19.0->pooch>=1.1->librosa) (2024.2.2)\n",
      "Downloading librosa-0.10.2.post1-py3-none-any.whl (260 kB)\n",
      "   ---------------------------------------- 0.0/260.1 kB ? eta -:--:--\n",
      "   - -------------------------------------- 10.2/260.1 kB ? eta -:--:--\n",
      "   ---- ---------------------------------- 30.7/260.1 kB 445.2 kB/s eta 0:00:01\n",
      "   ---- ---------------------------------- 30.7/260.1 kB 445.2 kB/s eta 0:00:01\n",
      "   ---- ---------------------------------- 30.7/260.1 kB 445.2 kB/s eta 0:00:01\n",
      "   --------- ----------------------------- 61.4/260.1 kB 252.2 kB/s eta 0:00:01\n",
      "   ---------- ---------------------------- 71.7/260.1 kB 262.6 kB/s eta 0:00:01\n",
      "   ------------- ------------------------- 92.2/260.1 kB 309.1 kB/s eta 0:00:01\n",
      "   ------------- ------------------------- 92.2/260.1 kB 309.1 kB/s eta 0:00:01\n",
      "   -------------------- ----------------- 143.4/260.1 kB 341.3 kB/s eta 0:00:01\n",
      "   ----------------------------- -------- 204.8/260.1 kB 445.2 kB/s eta 0:00:01\n",
      "   -------------------------------- ----- 225.3/260.1 kB 474.7 kB/s eta 0:00:01\n",
      "   -------------------------------- ----- 225.3/260.1 kB 474.7 kB/s eta 0:00:01\n",
      "   -------------------------------------- 260.1/260.1 kB 444.6 kB/s eta 0:00:00\n",
      "Downloading audioread-3.0.1-py3-none-any.whl (23 kB)\n",
      "Downloading pooch-1.8.2-py3-none-any.whl (64 kB)\n",
      "   ---------------------------------------- 0.0/64.6 kB ? eta -:--:--\n",
      "   -------------------------------------- - 61.4/64.6 kB 1.1 MB/s eta 0:00:01\n",
      "   ---------------------------------------- 64.6/64.6 kB 862.4 kB/s eta 0:00:00\n",
      "Downloading soundfile-0.12.1-py2.py3-none-win_amd64.whl (1.0 MB)\n",
      "   ---------------------------------------- 0.0/1.0 MB ? eta -:--:--\n",
      "   ---- ----------------------------------- 0.1/1.0 MB 2.4 MB/s eta 0:00:01\n",
      "   -------- ------------------------------- 0.2/1.0 MB 2.1 MB/s eta 0:00:01\n",
      "   ----------- ---------------------------- 0.3/1.0 MB 2.0 MB/s eta 0:00:01\n",
      "   ------------ --------------------------- 0.3/1.0 MB 1.6 MB/s eta 0:00:01\n",
      "   ---------------- ----------------------- 0.4/1.0 MB 1.8 MB/s eta 0:00:01\n",
      "   ------------------------ --------------- 0.6/1.0 MB 2.2 MB/s eta 0:00:01\n",
      "   ---------------------------- ----------- 0.7/1.0 MB 2.3 MB/s eta 0:00:01\n",
      "   -------------------------------- ------- 0.8/1.0 MB 2.1 MB/s eta 0:00:01\n",
      "   ----------------------------------- ---- 0.9/1.0 MB 2.1 MB/s eta 0:00:01\n",
      "   -------------------------------------- - 1.0/1.0 MB 2.0 MB/s eta 0:00:01\n",
      "   ---------------------------------------- 1.0/1.0 MB 1.9 MB/s eta 0:00:00\n",
      "Downloading soxr-0.5.0.post1-cp311-cp311-win_amd64.whl (166 kB)\n",
      "   ---------------------------------------- 0.0/166.7 kB ? eta -:--:--\n",
      "   ---------------------- ----------------- 92.2/166.7 kB 1.8 MB/s eta 0:00:01\n",
      "   ---------------------------------------  163.8/166.7 kB 1.7 MB/s eta 0:00:01\n",
      "   ---------------------------------------- 166.7/166.7 kB 1.4 MB/s eta 0:00:00\n",
      "Installing collected packages: soxr, audioread, soundfile, pooch, librosa\n",
      "Successfully installed audioread-3.0.1 librosa-0.10.2.post1 pooch-1.8.2 soundfile-0.12.1 soxr-0.5.0.post1\n",
      "Note: you may need to restart the kernel to use updated packages.\n"
     ]
    }
   ],
   "source": [
    "pip install librosa"
   ]
  },
  {
   "cell_type": "code",
   "execution_count": 3,
   "id": "f4c0f90d-84a0-402e-8a79-84a1e04ecade",
   "metadata": {},
   "outputs": [
    {
     "name": "stdout",
     "output_type": "stream",
     "text": [
      "Requirement already satisfied: numpy in c:\\users\\asus\\anaconda3\\lib\\site-packages (1.26.4)Note: you may need to restart the kernel to use updated packages.\n",
      "\n"
     ]
    }
   ],
   "source": [
    "pip install numpy"
   ]
  },
  {
   "cell_type": "code",
   "execution_count": 4,
   "id": "d511c2e4-54d4-452e-9ef2-402fc77f10e1",
   "metadata": {},
   "outputs": [
    {
     "name": "stdout",
     "output_type": "stream",
     "text": [
      "Requirement already satisfied: pygame in c:\\users\\asus\\anaconda3\\lib\\site-packages (2.6.0)\n",
      "Note: you may need to restart the kernel to use updated packages.\n"
     ]
    }
   ],
   "source": [
    "pip install pygame"
   ]
  },
  {
   "cell_type": "code",
   "execution_count": 5,
   "id": "fa2b150a-69f4-431e-8369-8767b2fcb9a6",
   "metadata": {},
   "outputs": [
    {
     "name": "stdout",
     "output_type": "stream",
     "text": [
      "Requirement already satisfied: soundfile in c:\\users\\asus\\anaconda3\\lib\\site-packages (0.12.1)\n",
      "Requirement already satisfied: cffi>=1.0 in c:\\users\\asus\\anaconda3\\lib\\site-packages (from soundfile) (1.16.0)\n",
      "Requirement already satisfied: pycparser in c:\\users\\asus\\anaconda3\\lib\\site-packages (from cffi>=1.0->soundfile) (2.21)\n",
      "Note: you may need to restart the kernel to use updated packages.\n"
     ]
    }
   ],
   "source": [
    "pip install soundfile"
   ]
  },
  {
   "cell_type": "code",
   "execution_count": 8,
   "id": "3f280fa0-e5bc-4d66-a03d-f73333cb81ca",
   "metadata": {},
   "outputs": [
    {
     "name": "stdout",
     "output_type": "stream",
     "text": [
      "Requirement already satisfied: pyaudio in c:\\users\\asus\\anaconda3\\lib\\site-packages (0.2.14)Note: you may need to restart the kernel to use updated packages.\n",
      "\n"
     ]
    }
   ],
   "source": [
    "pip install pyaudio"
   ]
  },
  {
   "cell_type": "code",
   "execution_count": 1,
   "id": "42bec135-f35d-4716-b515-bb5a4dfda031",
   "metadata": {},
   "outputs": [
    {
     "name": "stdout",
     "output_type": "stream",
     "text": [
      "Collecting youtube_dl\n",
      "  Downloading youtube_dl-2021.12.17-py2.py3-none-any.whl.metadata (1.5 kB)\n",
      "Downloading youtube_dl-2021.12.17-py2.py3-none-any.whl (1.9 MB)\n",
      "   ---------------------------------------- 0.0/1.9 MB ? eta -:--:--\n",
      "   ---------------------------------------- 0.0/1.9 MB ? eta -:--:--\n",
      "   ---------------------------------------- 0.0/1.9 MB ? eta -:--:--\n",
      "    --------------------------------------- 0.0/1.9 MB 325.1 kB/s eta 0:00:06\n",
      "    --------------------------------------- 0.0/1.9 MB 325.1 kB/s eta 0:00:06\n",
      "    --------------------------------------- 0.0/1.9 MB 217.9 kB/s eta 0:00:09\n",
      "   - -------------------------------------- 0.1/1.9 MB 272.3 kB/s eta 0:00:07\n",
      "   - -------------------------------------- 0.1/1.9 MB 308.0 kB/s eta 0:00:06\n",
      "   - -------------------------------------- 0.1/1.9 MB 308.0 kB/s eta 0:00:06\n",
      "   -- ------------------------------------- 0.1/1.9 MB 297.7 kB/s eta 0:00:07\n",
      "   --- ------------------------------------ 0.2/1.9 MB 378.3 kB/s eta 0:00:05\n",
      "   ---- ----------------------------------- 0.2/1.9 MB 429.5 kB/s eta 0:00:04\n",
      "   ---- ----------------------------------- 0.2/1.9 MB 458.5 kB/s eta 0:00:04\n",
      "   ----- ---------------------------------- 0.2/1.9 MB 443.5 kB/s eta 0:00:04\n",
      "   ----- ---------------------------------- 0.3/1.9 MB 413.7 kB/s eta 0:00:04\n",
      "   ------- -------------------------------- 0.3/1.9 MB 524.3 kB/s eta 0:00:03\n",
      "   ---------- ----------------------------- 0.5/1.9 MB 699.5 kB/s eta 0:00:03\n",
      "   ---------- ----------------------------- 0.5/1.9 MB 669.6 kB/s eta 0:00:03\n",
      "   ---------- ----------------------------- 0.5/1.9 MB 655.6 kB/s eta 0:00:03\n",
      "   ------------ --------------------------- 0.6/1.9 MB 717.3 kB/s eta 0:00:02\n",
      "   --------------- ------------------------ 0.7/1.9 MB 807.5 kB/s eta 0:00:02\n",
      "   ------------------- -------------------- 0.9/1.9 MB 977.4 kB/s eta 0:00:02\n",
      "   --------------------- ------------------ 1.0/1.9 MB 1.1 MB/s eta 0:00:01\n",
      "   ----------------------- ---------------- 1.1/1.9 MB 1.1 MB/s eta 0:00:01\n",
      "   ------------------------ --------------- 1.2/1.9 MB 1.1 MB/s eta 0:00:01\n",
      "   -------------------------- ------------- 1.3/1.9 MB 1.2 MB/s eta 0:00:01\n",
      "   ------------------------------- -------- 1.5/1.9 MB 1.3 MB/s eta 0:00:01\n",
      "   ------------------------------------ --- 1.8/1.9 MB 1.4 MB/s eta 0:00:01\n",
      "   ---------------------------------------  1.9/1.9 MB 1.5 MB/s eta 0:00:01\n",
      "   ---------------------------------------- 1.9/1.9 MB 1.5 MB/s eta 0:00:00\n",
      "Installing collected packages: youtube_dl\n",
      "Successfully installed youtube_dl-2021.12.17\n",
      "Note: you may need to restart the kernel to use updated packages.\n"
     ]
    }
   ],
   "source": [
    "pip install youtube_dl"
   ]
  },
  {
   "cell_type": "code",
   "execution_count": 5,
   "id": "b08307c4-7117-48c0-8827-a0ed60cb0110",
   "metadata": {},
   "outputs": [
    {
     "name": "stdout",
     "output_type": "stream",
     "text": [
      "Requirement already satisfied: youtube-dl in c:\\users\\asus\\anaconda3\\lib\\site-packages (2021.12.17)\n",
      "Note: you may need to restart the kernel to use updated packages.\n"
     ]
    }
   ],
   "source": [
    "pip install --upgrade youtube-dl"
   ]
  },
  {
   "cell_type": "code",
   "execution_count": 6,
   "id": "985e9a30-c558-4cc7-b6da-d09a7c606e61",
   "metadata": {},
   "outputs": [
    {
     "name": "stdout",
     "output_type": "stream",
     "text": [
      "Collecting yt-dlp\n",
      "  Downloading yt_dlp-2024.10.7-py3-none-any.whl.metadata (171 kB)\n",
      "     ---------------------------------------- 0.0/171.3 kB ? eta -:--:--\n",
      "     -- ------------------------------------- 10.2/171.3 kB ? eta -:--:--\n",
      "     ---- -------------------------------- 20.5/171.3 kB 162.5 kB/s eta 0:00:01\n",
      "     ------ ------------------------------ 30.7/171.3 kB 187.9 kB/s eta 0:00:01\n",
      "     ------ ------------------------------ 30.7/171.3 kB 187.9 kB/s eta 0:00:01\n",
      "     -------- ---------------------------- 41.0/171.3 kB 151.3 kB/s eta 0:00:01\n",
      "     ----------------- ------------------- 81.9/171.3 kB 255.1 kB/s eta 0:00:01\n",
      "     ------------------- ----------------- 92.2/171.3 kB 261.7 kB/s eta 0:00:01\n",
      "     ----------------------- ------------ 112.6/171.3 kB 273.1 kB/s eta 0:00:01\n",
      "     ----------------------- ------------ 112.6/171.3 kB 273.1 kB/s eta 0:00:01\n",
      "     ------------------------------------ 171.3/171.3 kB 355.6 kB/s eta 0:00:00\n",
      "Requirement already satisfied: brotli in c:\\users\\asus\\anaconda3\\lib\\site-packages (from yt-dlp) (1.0.9)\n",
      "Requirement already satisfied: certifi in c:\\users\\asus\\anaconda3\\lib\\site-packages (from yt-dlp) (2024.2.2)\n",
      "Collecting mutagen (from yt-dlp)\n",
      "  Downloading mutagen-1.47.0-py3-none-any.whl.metadata (1.7 kB)\n",
      "Collecting pycryptodomex (from yt-dlp)\n",
      "  Downloading pycryptodomex-3.21.0-cp36-abi3-win_amd64.whl.metadata (3.4 kB)\n",
      "Collecting requests<3,>=2.32.2 (from yt-dlp)\n",
      "  Downloading requests-2.32.3-py3-none-any.whl.metadata (4.6 kB)\n",
      "Requirement already satisfied: urllib3<3,>=1.26.17 in c:\\users\\asus\\anaconda3\\lib\\site-packages (from yt-dlp) (2.0.7)\n",
      "Collecting websockets>=13.0 (from yt-dlp)\n",
      "  Downloading websockets-13.1-cp311-cp311-win_amd64.whl.metadata (7.0 kB)\n",
      "Requirement already satisfied: charset-normalizer<4,>=2 in c:\\users\\asus\\anaconda3\\lib\\site-packages (from requests<3,>=2.32.2->yt-dlp) (2.0.4)\n",
      "Requirement already satisfied: idna<4,>=2.5 in c:\\users\\asus\\anaconda3\\lib\\site-packages (from requests<3,>=2.32.2->yt-dlp) (2.10)\n",
      "Downloading yt_dlp-2024.10.7-py3-none-any.whl (3.1 MB)\n",
      "   ---------------------------------------- 0.0/3.1 MB ? eta -:--:--\n",
      "    --------------------------------------- 0.1/3.1 MB 1.7 MB/s eta 0:00:02\n",
      "   -- ------------------------------------- 0.2/3.1 MB 2.1 MB/s eta 0:00:02\n",
      "   -- ------------------------------------- 0.2/3.1 MB 2.0 MB/s eta 0:00:02\n",
      "   -- ------------------------------------- 0.2/3.1 MB 1.1 MB/s eta 0:00:03\n",
      "   --- ------------------------------------ 0.3/3.1 MB 1.4 MB/s eta 0:00:03\n",
      "   ----- ---------------------------------- 0.4/3.1 MB 1.5 MB/s eta 0:00:02\n",
      "   ----- ---------------------------------- 0.5/3.1 MB 1.6 MB/s eta 0:00:02\n",
      "   ----- ---------------------------------- 0.5/3.1 MB 1.3 MB/s eta 0:00:03\n",
      "   -------- ------------------------------- 0.6/3.1 MB 1.5 MB/s eta 0:00:02\n",
      "   ---------- ----------------------------- 0.8/3.1 MB 1.8 MB/s eta 0:00:02\n",
      "   ----------- ---------------------------- 0.9/3.1 MB 1.8 MB/s eta 0:00:02\n",
      "   ------------ --------------------------- 1.0/3.1 MB 1.8 MB/s eta 0:00:02\n",
      "   ------------- -------------------------- 1.0/3.1 MB 1.8 MB/s eta 0:00:02\n",
      "   --------------- ------------------------ 1.2/3.1 MB 1.8 MB/s eta 0:00:02\n",
      "   ----------------- ---------------------- 1.4/3.1 MB 2.0 MB/s eta 0:00:01\n",
      "   ------------------- -------------------- 1.6/3.1 MB 2.1 MB/s eta 0:00:01\n",
      "   ------------------------ --------------- 1.9/3.1 MB 2.4 MB/s eta 0:00:01\n",
      "   --------------------------- ------------ 2.2/3.1 MB 2.6 MB/s eta 0:00:01\n",
      "   ----------------------------- ---------- 2.3/3.1 MB 2.6 MB/s eta 0:00:01\n",
      "   ------------------------------- -------- 2.5/3.1 MB 2.6 MB/s eta 0:00:01\n",
      "   -------------------------------- ------- 2.5/3.1 MB 2.7 MB/s eta 0:00:01\n",
      "   -------------------------------- ------- 2.5/3.1 MB 2.7 MB/s eta 0:00:01\n",
      "   ----------------------------------- ---- 2.8/3.1 MB 2.6 MB/s eta 0:00:01\n",
      "   -------------------------------------- - 3.0/3.1 MB 2.7 MB/s eta 0:00:01\n",
      "   ---------------------------------------- 3.1/3.1 MB 2.7 MB/s eta 0:00:00\n",
      "Downloading requests-2.32.3-py3-none-any.whl (64 kB)\n",
      "   ---------------------------------------- 0.0/64.9 kB ? eta -:--:--\n",
      "   ---------------------------------------- 64.9/64.9 kB 1.8 MB/s eta 0:00:00\n",
      "Downloading websockets-13.1-cp311-cp311-win_amd64.whl (159 kB)\n",
      "   ---------------------------------------- 0.0/159.1 kB ? eta -:--:--\n",
      "   -------------------------------------- - 153.6/159.1 kB 4.6 MB/s eta 0:00:01\n",
      "   ---------------------------------------- 159.1/159.1 kB 3.2 MB/s eta 0:00:00\n",
      "Downloading mutagen-1.47.0-py3-none-any.whl (194 kB)\n",
      "   ---------------------------------------- 0.0/194.4 kB ? eta -:--:--\n",
      "   ------------------------- -------------- 122.9/194.4 kB 2.4 MB/s eta 0:00:01\n",
      "   ---------------------------------------- 194.4/194.4 kB 2.4 MB/s eta 0:00:00\n",
      "Downloading pycryptodomex-3.21.0-cp36-abi3-win_amd64.whl (1.8 MB)\n",
      "   ---------------------------------------- 0.0/1.8 MB ? eta -:--:--\n",
      "   -- ------------------------------------- 0.1/1.8 MB 3.6 MB/s eta 0:00:01\n",
      "   --------- ------------------------------ 0.4/1.8 MB 5.3 MB/s eta 0:00:01\n",
      "   --------------- ------------------------ 0.7/1.8 MB 6.5 MB/s eta 0:00:01\n",
      "   ---------------------- ----------------- 1.0/1.8 MB 5.9 MB/s eta 0:00:01\n",
      "   ----------------------------- ---------- 1.3/1.8 MB 6.1 MB/s eta 0:00:01\n",
      "   ------------------------------- -------- 1.4/1.8 MB 5.4 MB/s eta 0:00:01\n",
      "   -------------------------------- ------- 1.5/1.8 MB 5.5 MB/s eta 0:00:01\n",
      "   -------------------------------- ------- 1.5/1.8 MB 5.5 MB/s eta 0:00:01\n",
      "   -------------------------------- ------- 1.5/1.8 MB 5.5 MB/s eta 0:00:01\n",
      "   -------------------------------- ------- 1.5/1.8 MB 5.5 MB/s eta 0:00:01\n",
      "   -------------------------------- ------- 1.5/1.8 MB 5.5 MB/s eta 0:00:01\n",
      "   -------------------------------- ------- 1.5/1.8 MB 5.5 MB/s eta 0:00:01\n",
      "   -------------------------------- ------- 1.5/1.8 MB 5.5 MB/s eta 0:00:01\n",
      "   -------------------------------- ------- 1.5/1.8 MB 5.5 MB/s eta 0:00:01\n",
      "   -------------------------------- ------- 1.5/1.8 MB 5.5 MB/s eta 0:00:01\n",
      "   -------------------------------- ------- 1.5/1.8 MB 2.1 MB/s eta 0:00:01\n",
      "   -------------------------------- ------- 1.5/1.8 MB 2.1 MB/s eta 0:00:01\n",
      "   -------------------------------- ------- 1.5/1.8 MB 2.1 MB/s eta 0:00:01\n",
      "   -------------------------------- ------- 1.5/1.8 MB 2.1 MB/s eta 0:00:01\n",
      "   --------------------------------- ------ 1.5/1.8 MB 1.7 MB/s eta 0:00:01\n",
      "   --------------------------------- ------ 1.5/1.8 MB 1.7 MB/s eta 0:00:01\n",
      "   --------------------------------- ------ 1.5/1.8 MB 1.7 MB/s eta 0:00:01\n",
      "   --------------------------------- ------ 1.5/1.8 MB 1.7 MB/s eta 0:00:01\n",
      "   --------------------------------- ------ 1.5/1.8 MB 1.4 MB/s eta 0:00:01\n",
      "   --------------------------------- ------ 1.5/1.8 MB 1.4 MB/s eta 0:00:01\n",
      "   --------------------------------- ------ 1.5/1.8 MB 1.4 MB/s eta 0:00:01\n",
      "   --------------------------------- ------ 1.5/1.8 MB 1.3 MB/s eta 0:00:01\n",
      "   ---------------------------------- ----- 1.6/1.8 MB 1.2 MB/s eta 0:00:01\n",
      "   ---------------------------------- ----- 1.6/1.8 MB 1.2 MB/s eta 0:00:01\n",
      "   ---------------------------------- ----- 1.6/1.8 MB 1.2 MB/s eta 0:00:01\n",
      "   ---------------------------------- ----- 1.6/1.8 MB 1.1 MB/s eta 0:00:01\n",
      "   ----------------------------------- ---- 1.6/1.8 MB 1.1 MB/s eta 0:00:01\n",
      "   ----------------------------------- ---- 1.6/1.8 MB 1.1 MB/s eta 0:00:01\n",
      "   ----------------------------------- ---- 1.6/1.8 MB 1.1 MB/s eta 0:00:01\n",
      "   ----------------------------------- ---- 1.6/1.8 MB 1.1 MB/s eta 0:00:01\n",
      "   ------------------------------------ --- 1.7/1.8 MB 1.0 MB/s eta 0:00:01\n",
      "   ------------------------------------ --- 1.7/1.8 MB 1.0 MB/s eta 0:00:01\n",
      "   ------------------------------------ --- 1.7/1.8 MB 1.0 MB/s eta 0:00:01\n",
      "   ------------------------------------- -- 1.7/1.8 MB 934.5 kB/s eta 0:00:01\n",
      "   ------------------------------------- -- 1.7/1.8 MB 927.4 kB/s eta 0:00:01\n",
      "   ------------------------------------- -- 1.7/1.8 MB 927.4 kB/s eta 0:00:01\n",
      "   ------------------------------------- -- 1.7/1.8 MB 927.4 kB/s eta 0:00:01\n",
      "   -------------------------------------- - 1.7/1.8 MB 873.7 kB/s eta 0:00:01\n",
      "   ---------------------------------------  1.8/1.8 MB 873.6 kB/s eta 0:00:01\n",
      "   ---------------------------------------  1.8/1.8 MB 872.2 kB/s eta 0:00:01\n",
      "   ---------------------------------------  1.8/1.8 MB 872.2 kB/s eta 0:00:01\n",
      "   ---------------------------------------  1.8/1.8 MB 835.9 kB/s eta 0:00:01\n",
      "   ---------------------------------------- 1.8/1.8 MB 819.8 kB/s eta 0:00:00\n",
      "Installing collected packages: websockets, requests, pycryptodomex, mutagen, yt-dlp\n",
      "  Attempting uninstall: requests\n",
      "    Found existing installation: requests 2.31.0\n",
      "    Uninstalling requests-2.31.0:\n",
      "      Successfully uninstalled requests-2.31.0\n",
      "Successfully installed mutagen-1.47.0 pycryptodomex-3.21.0 requests-2.32.3 websockets-13.1 yt-dlp-2024.10.7\n",
      "Note: you may need to restart the kernel to use updated packages.\n"
     ]
    },
    {
     "name": "stderr",
     "output_type": "stream",
     "text": [
      "ERROR: pip's dependency resolver does not currently take into account all the packages that are installed. This behaviour is the source of the following dependency conflicts.\n",
      "conda-repo-cli 1.0.75 requires requests==2.31.0, but you have requests 2.32.3 which is incompatible.\n"
     ]
    }
   ],
   "source": [
    "pip install yt-dlp"
   ]
  },
  {
   "cell_type": "code",
   "execution_count": 19,
   "id": "f94e525a-2297-48ce-b4c7-ca7a294754f8",
   "metadata": {},
   "outputs": [
    {
     "name": "stderr",
     "output_type": "stream",
     "text": [
      "Exception in Tkinter callback\n",
      "Traceback (most recent call last):\n",
      "  File \"C:\\Users\\ASUS\\anaconda3\\Lib\\tkinter\\__init__.py\", line 1948, in __call__\n",
      "    return self.func(*args)\n",
      "           ^^^^^^^^^^^^^^^^\n",
      "  File \"C:\\Users\\ASUS\\AppData\\Local\\Temp\\ipykernel_4628\\2656231088.py\", line 79, in load_audio\n",
      "    self.audio_segment = AudioSegment.from_file(file_path)\n",
      "                         ^^^^^^^^^^^^^^^^^^^^^^^^^^^^^^^^^\n",
      "  File \"C:\\Users\\ASUS\\anaconda3\\Lib\\site-packages\\pydub\\audio_segment.py\", line 728, in from_file\n",
      "    info = mediainfo_json(orig_file, read_ahead_limit=read_ahead_limit)\n",
      "           ^^^^^^^^^^^^^^^^^^^^^^^^^^^^^^^^^^^^^^^^^^^^^^^^^^^^^^^^^^^^\n",
      "  File \"C:\\Users\\ASUS\\anaconda3\\Lib\\site-packages\\pydub\\utils.py\", line 274, in mediainfo_json\n",
      "    res = Popen(command, stdin=stdin_parameter, stdout=PIPE, stderr=PIPE)\n",
      "          ^^^^^^^^^^^^^^^^^^^^^^^^^^^^^^^^^^^^^^^^^^^^^^^^^^^^^^^^^^^^^^^\n",
      "  File \"C:\\Users\\ASUS\\anaconda3\\Lib\\subprocess.py\", line 1026, in __init__\n",
      "    self._execute_child(args, executable, preexec_fn, close_fds,\n",
      "  File \"C:\\Users\\ASUS\\anaconda3\\Lib\\subprocess.py\", line 1538, in _execute_child\n",
      "    hp, ht, pid, tid = _winapi.CreateProcess(executable, args,\n",
      "                       ^^^^^^^^^^^^^^^^^^^^^^^^^^^^^^^^^^^^^^^\n",
      "FileNotFoundError: [WinError 2] The system cannot find the file specified\n"
     ]
    }
   ],
   "source": [
    "import tkinter as tk\n",
    "from tkinter import filedialog, messagebox\n",
    "from tkinter import ttk\n",
    "from pydub import AudioSegment\n",
    "from pydub.playback import play\n",
    "import pyaudio\n",
    "import threading\n",
    "import yt_dlp  # Changed import to yt_dlp\n",
    "import os\n",
    "import tkinter.simpledialog as simpledialog  # Import simpledialog for asking strings\n",
    "\n",
    "\n",
    "# Function to download audio from YouTube using yt-dlp\n",
    "def download_youtube_audio(url):\n",
    "    ydl_opts = {\n",
    "        'format': 'bestaudio/best',\n",
    "        'postprocessors': [{\n",
    "            'key': 'FFmpegExtractAudio',  # Ensure 'key' is specified\n",
    "            'preferredcodec': '',  # You can change this to 'wav', 'ogg', etc.\n",
    "            'preferredquality': '192',\n",
    "        }],\n",
    "        'outtmpl': 'downloads/%(title)s.%(ext)s',  # Download directory\n",
    "        'noplaylist': True,  # Download only the single video\n",
    "    }\n",
    "    \n",
    "    if not os.path.exists('downloads'):\n",
    "        os.makedirs('downloads')\n",
    "\n",
    "    with yt_dlp.YoutubeDL(ydl_opts) as ydl:  # Change to yt_dlp\n",
    "        ydl.download([url])\n",
    "\n",
    "# Class for the Equalizer Application\n",
    "class EqualizerApp:\n",
    "    def __init__(self, root):\n",
    "        self.root = root\n",
    "        self.root.title(\"Simple Audio Equalizer\")\n",
    "        \n",
    "        self.audio_segment = None\n",
    "        self.is_playing = False\n",
    "        \n",
    "        # UI Elements\n",
    "        self.create_widgets()\n",
    "\n",
    "    def create_widgets(self):\n",
    "        # Load Audio File Button\n",
    "        load_btn = tk.Button(self.root, text=\"Load Local Audio\", command=self.load_audio)\n",
    "        load_btn.pack(pady=10)\n",
    "\n",
    "        # Load YouTube Button\n",
    "        load_youtube_btn = tk.Button(self.root, text=\"Load YouTube Audio\", command=self.load_youtube_audio)\n",
    "        load_youtube_btn.pack(pady=10)\n",
    "\n",
    "        # Equalizer Controls\n",
    "        self.bass_slider = self.create_slider(\"Bass (20-200 Hz)\", -10, 10)\n",
    "        self.mid_slider = self.create_slider(\"Midrange (200 Hz - 5 kHz)\", -10, 10)\n",
    "        self.treble_slider = self.create_slider(\"Treble (5 kHz - 20 kHz)\", -10, 10)\n",
    "\n",
    "        # Play Button\n",
    "        play_btn = tk.Button(self.root, text=\"Play\", command=self.play_audio)\n",
    "        play_btn.pack(pady=10)\n",
    "\n",
    "        # Stop Button\n",
    "        stop_btn = tk.Button(self.root, text=\"Stop\", command=self.stop_audio)\n",
    "        stop_btn.pack(pady=10)\n",
    "\n",
    "    def create_slider(self, label, min_val, max_val):\n",
    "        frame = tk.Frame(self.root)\n",
    "        frame.pack(pady=5)\n",
    "        \n",
    "        tk.Label(frame, text=label).pack(side=tk.LEFT)\n",
    "        slider = ttk.Scale(frame, from_=min_val, to=max_val, orient='horizontal')\n",
    "        slider.set(0)  # Default value\n",
    "        slider.pack(side=tk.LEFT)\n",
    "        return slider\n",
    "\n",
    "    def load_audio(self):\n",
    "        file_path = filedialog.askopenfilename(filetypes=[(\"Audio Files\", \"*.mp3 *.wav *.ogg *.flac\")])\n",
    "        if file_path:\n",
    "            self.audio_segment = AudioSegment.from_file(file_path)\n",
    "            messagebox.showinfo(\"Info\", \"Loaded audio file successfully!\")\n",
    "\n",
    "    def load_youtube_audio(self):\n",
    "        url = simpledialog.askstring(\"YouTube URL\", \"Enter YouTube Video URL:\")\n",
    "        if url:\n",
    "            download_youtube_audio(url)\n",
    "            # Load the downloaded audio (assumes MP3 format)\n",
    "            latest_file = max([f for f in os.listdir('downloads')], key=os.path.getctime)\n",
    "            self.audio_segment = AudioSegment.from_file(os.path.join('downloads', latest_file))\n",
    "            messagebox.showinfo(\"Info\", \"Downloaded and loaded YouTube audio successfully!\")\n",
    "\n",
    "    def play_audio(self):\n",
    "        if self.audio_segment:\n",
    "            self.is_playing = True\n",
    "            threading.Thread(target=self.audio_playback_thread).start()\n",
    "        else:\n",
    "            messagebox.showerror(\"Error\", \"No audio loaded!\")\n",
    "\n",
    "    def stop_audio(self):\n",
    "        self.is_playing = False\n",
    "\n",
    "    def audio_playback_thread(self):\n",
    "        # Apply equalization\n",
    "        bass_gain = self.bass_slider.get()\n",
    "        mid_gain = self.mid_slider.get()\n",
    "        treble_gain = self.treble_slider.get()\n",
    "\n",
    "        # Apply gains to frequency ranges\n",
    "        # Placeholder for equalization logic\n",
    "        # Currently, just adjusting the overall gain for demonstration\n",
    "        self.audio_segment = self.audio_segment + (bass_gain + mid_gain + treble_gain)\n",
    "\n",
    "        # Play the audio\n",
    "        play(self.audio_segment)\n",
    "\n",
    "        # Stop playing if the stop button is pressed\n",
    "        while self.is_playing:\n",
    "            pass\n",
    "\n",
    "# Main Application\n",
    "if __name__ == \"__main__\":\n",
    "    root = tk.Tk()\n",
    "    app = EqualizerApp(root)\n",
    "    root.mainloop()\n"
   ]
  },
  {
   "cell_type": "code",
   "execution_count": null,
   "id": "12093384-4238-4c2e-a094-f2a382dbab7f",
   "metadata": {},
   "outputs": [],
   "source": []
  }
 ],
 "metadata": {
  "kernelspec": {
   "display_name": "Python 3 (ipykernel)",
   "language": "python",
   "name": "python3"
  },
  "language_info": {
   "codemirror_mode": {
    "name": "ipython",
    "version": 3
   },
   "file_extension": ".py",
   "mimetype": "text/x-python",
   "name": "python",
   "nbconvert_exporter": "python",
   "pygments_lexer": "ipython3",
   "version": "3.11.7"
  }
 },
 "nbformat": 4,
 "nbformat_minor": 5
}
